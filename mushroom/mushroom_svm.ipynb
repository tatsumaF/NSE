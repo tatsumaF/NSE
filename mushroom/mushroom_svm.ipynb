{
 "cells": [
  {
   "attachments": {},
   "cell_type": "markdown",
   "id": "8351ee16",
   "metadata": {},
   "source": [
    "ここではキノコがが有毒か否かを判別するシステムをサポートベクターマシンを用いて構築する"
   ]
  },
  {
   "attachments": {},
   "cell_type": "markdown",
   "id": "e3a021b3",
   "metadata": {},
   "source": [
    "利用するデータセット：UCI機械学習レポジトリが提供するキノコのデータセット\n",
    "\n",
    "データセットには61069種のキノコのデータセットがあり、それぞれ食用（e）と有毒（p）に分けられている。\n",
    "\n",
    "\n",
    "以下にデータセットから与えられるキノコの特徴量を記述する。\n",
    "\n",
    "cap-diameter：傘の直径\n",
    "\n",
    "cap-shape：傘の形状(鐘型（B）、円錐（C）、凸（x）、フラット（F）沈んだ形（S）、球型（P）)\n",
    "\n",
    "cap-surface：キノコの表面（繊維状（I）、溝（G）、鱗状（Y）、滑らか（S）、光沢（H）、革状（L）、絹状（K）、粘着性（T）、しわ（W）、肉質（E））\n",
    "\n",
    "cap-color：キャップの色（茶色（N）、バフ（B）、灰色（G）、緑（R）、ピンク（P）、紫（U）、赤（E）、白（W）、黄色（Y）、青（L）、オレンジ（O））\n",
    "\n",
    "\n",
    "データセットの引用先：https://archive.ics.uci.edu/ml/datasets/Mushroom"
   ]
  },
  {
   "cell_type": "markdown",
   "id": "1f732aca",
   "metadata": {},
   "source": [
    "必要なモジュールのインポート"
   ]
  },
  {
   "cell_type": "code",
   "execution_count": 7,
   "id": "c299541f",
   "metadata": {},
   "outputs": [],
   "source": [
    "import pandas as pd\n",
    "import numpy as np\n",
    "import tensorflow as tf\n",
    "import tensorflow.keras as keras\n",
    "import matplotlib.pyplot as plt\n",
    "from sklearn.model_selection import train_test_split\n",
    "from sklearn import svm\n",
    "from sklearn.metrics import accuracy_score\n",
    "from sklearn.preprocessing import LabelEncoder"
   ]
  },
  {
   "cell_type": "markdown",
   "id": "d2a0540a",
   "metadata": {},
   "source": [
    "データの読み込み"
   ]
  },
  {
   "cell_type": "code",
   "execution_count": 8,
   "id": "f3969336",
   "metadata": {},
   "outputs": [
    {
     "name": "stdout",
     "output_type": "stream",
     "text": [
      "      class  cap-diameter cap-shape cap-surface cap-color  \\\n",
      "0         p         15.26         x           g         o   \n",
      "1         p         16.60         x           g         o   \n",
      "2         p         14.07         x           g         o   \n",
      "3         p         14.17         f           h         e   \n",
      "4         p         14.64         x           h         o   \n",
      "...     ...           ...       ...         ...       ...   \n",
      "61064     p          1.18         s           s         y   \n",
      "61065     p          1.27         f           s         y   \n",
      "61066     p          1.27         s           s         y   \n",
      "61067     p          1.24         f           s         y   \n",
      "61068     p          1.17         s           s         y   \n",
      "\n",
      "      does-bruise-or-bleed gill-attachment gill-spacing gill-color  \\\n",
      "0                        f               e          NaN          w   \n",
      "1                        f               e          NaN          w   \n",
      "2                        f               e          NaN          w   \n",
      "3                        f               e          NaN          w   \n",
      "4                        f               e          NaN          w   \n",
      "...                    ...             ...          ...        ...   \n",
      "61064                    f               f            f          f   \n",
      "61065                    f               f            f          f   \n",
      "61066                    f               f            f          f   \n",
      "61067                    f               f            f          f   \n",
      "61068                    f               f            f          f   \n",
      "\n",
      "       stem-height  ...  stem-root stem-surface stem-color veil-type  \\\n",
      "0            16.95  ...          s            y          w         u   \n",
      "1            17.99  ...          s            y          w         u   \n",
      "2            17.80  ...          s            y          w         u   \n",
      "3            15.77  ...          s            y          w         u   \n",
      "4            16.53  ...          s            y          w         u   \n",
      "...            ...  ...        ...          ...        ...       ...   \n",
      "61064         3.93  ...        NaN          NaN          y       NaN   \n",
      "61065         3.18  ...        NaN          NaN          y       NaN   \n",
      "61066         3.86  ...        NaN          NaN          y       NaN   \n",
      "61067         3.56  ...        NaN          NaN          y       NaN   \n",
      "61068         3.25  ...        NaN          NaN          y       NaN   \n",
      "\n",
      "      veil-color has-ring ring-type spore-print-color habitat season  \n",
      "0              w        t         g               NaN       d      w  \n",
      "1              w        t         g               NaN       d      u  \n",
      "2              w        t         g               NaN       d      w  \n",
      "3              w        t         p               NaN       d      w  \n",
      "4              w        t         p               NaN       d      w  \n",
      "...          ...      ...       ...               ...     ...    ...  \n",
      "61064        NaN        f         f               NaN       d      a  \n",
      "61065        NaN        f         f               NaN       d      a  \n",
      "61066        NaN        f         f               NaN       d      u  \n",
      "61067        NaN        f         f               NaN       d      u  \n",
      "61068        NaN        f         f               NaN       d      u  \n",
      "\n",
      "[61069 rows x 21 columns]\n",
      "(61069, 21)\n"
     ]
    }
   ],
   "source": [
    "#今回利用するデータは区切り文字が\";\"であるためsepに設定する\n",
    "df = pd.read_csv('secondary_data.csv',sep=\";\")\n",
    "\n",
    "print(df)\n",
    "print(df.shape)"
   ]
  },
  {
   "cell_type": "markdown",
   "id": "edaf6fae",
   "metadata": {},
   "source": [
    "入力と出力の分割"
   ]
  },
  {
   "cell_type": "code",
   "execution_count": 10,
   "id": "acdd4fd2",
   "metadata": {},
   "outputs": [
    {
     "name": "stdout",
     "output_type": "stream",
     "text": [
      "0        p\n",
      "1        p\n",
      "2        p\n",
      "3        p\n",
      "4        p\n",
      "        ..\n",
      "61064    p\n",
      "61065    p\n",
      "61066    p\n",
      "61067    p\n",
      "61068    p\n",
      "Name: class, Length: 61069, dtype: object\n",
      "[1 1 1 ... 1 1 1]\n"
     ]
    }
   ],
   "source": [
    "#入力(特徴量)と出力(目的変数)の分割\n",
    "X = df.iloc[:,1:5]\n",
    "le = LabelEncoder()\n",
    "#ラベルエンコーディング\n",
    "X['cap-shape'] = le.fit_transform(df['cap-shape'])\n",
    "X['cap-surface'] = le.fit_transform(df['cap-surface'])\n",
    "X['cap-color'] = le.fit_transform(df['cap-color'])\n",
    "X = (X - X.mean())/X.std()\n",
    "\n",
    "y = df['class']\n",
    "converted_y = le.fit_transform(y)\n",
    "#以下のコードでyとconverted_yの対応関係を確認する\n",
    "print(y)\n",
    "print(converted_y)"
   ]
  },
  {
   "cell_type": "markdown",
   "id": "e884aac9",
   "metadata": {},
   "source": [
    "データの分割"
   ]
  },
  {
   "cell_type": "code",
   "execution_count": 11,
   "id": "cde77872",
   "metadata": {},
   "outputs": [
    {
     "name": "stdout",
     "output_type": "stream",
     "text": [
      "(42748, 4) (18321, 4) (42748,) (18321,)\n"
     ]
    }
   ],
   "source": [
    "X_train, X_test, y_train, y_test = train_test_split(X, y, test_size=0.3, random_state=42)\n",
    "print(X_train.shape, X_test.shape, y_train.shape, y_test.shape)"
   ]
  },
  {
   "attachments": {},
   "cell_type": "markdown",
   "id": "76bd4584",
   "metadata": {},
   "source": [
    "モデルの構築と学習"
   ]
  },
  {
   "cell_type": "code",
   "execution_count": 12,
   "id": "11d0ee3d",
   "metadata": {},
   "outputs": [
    {
     "data": {
      "text/html": [
       "<style>#sk-container-id-1 {color: black;background-color: white;}#sk-container-id-1 pre{padding: 0;}#sk-container-id-1 div.sk-toggleable {background-color: white;}#sk-container-id-1 label.sk-toggleable__label {cursor: pointer;display: block;width: 100%;margin-bottom: 0;padding: 0.3em;box-sizing: border-box;text-align: center;}#sk-container-id-1 label.sk-toggleable__label-arrow:before {content: \"▸\";float: left;margin-right: 0.25em;color: #696969;}#sk-container-id-1 label.sk-toggleable__label-arrow:hover:before {color: black;}#sk-container-id-1 div.sk-estimator:hover label.sk-toggleable__label-arrow:before {color: black;}#sk-container-id-1 div.sk-toggleable__content {max-height: 0;max-width: 0;overflow: hidden;text-align: left;background-color: #f0f8ff;}#sk-container-id-1 div.sk-toggleable__content pre {margin: 0.2em;color: black;border-radius: 0.25em;background-color: #f0f8ff;}#sk-container-id-1 input.sk-toggleable__control:checked~div.sk-toggleable__content {max-height: 200px;max-width: 100%;overflow: auto;}#sk-container-id-1 input.sk-toggleable__control:checked~label.sk-toggleable__label-arrow:before {content: \"▾\";}#sk-container-id-1 div.sk-estimator input.sk-toggleable__control:checked~label.sk-toggleable__label {background-color: #d4ebff;}#sk-container-id-1 div.sk-label input.sk-toggleable__control:checked~label.sk-toggleable__label {background-color: #d4ebff;}#sk-container-id-1 input.sk-hidden--visually {border: 0;clip: rect(1px 1px 1px 1px);clip: rect(1px, 1px, 1px, 1px);height: 1px;margin: -1px;overflow: hidden;padding: 0;position: absolute;width: 1px;}#sk-container-id-1 div.sk-estimator {font-family: monospace;background-color: #f0f8ff;border: 1px dotted black;border-radius: 0.25em;box-sizing: border-box;margin-bottom: 0.5em;}#sk-container-id-1 div.sk-estimator:hover {background-color: #d4ebff;}#sk-container-id-1 div.sk-parallel-item::after {content: \"\";width: 100%;border-bottom: 1px solid gray;flex-grow: 1;}#sk-container-id-1 div.sk-label:hover label.sk-toggleable__label {background-color: #d4ebff;}#sk-container-id-1 div.sk-serial::before {content: \"\";position: absolute;border-left: 1px solid gray;box-sizing: border-box;top: 0;bottom: 0;left: 50%;z-index: 0;}#sk-container-id-1 div.sk-serial {display: flex;flex-direction: column;align-items: center;background-color: white;padding-right: 0.2em;padding-left: 0.2em;position: relative;}#sk-container-id-1 div.sk-item {position: relative;z-index: 1;}#sk-container-id-1 div.sk-parallel {display: flex;align-items: stretch;justify-content: center;background-color: white;position: relative;}#sk-container-id-1 div.sk-item::before, #sk-container-id-1 div.sk-parallel-item::before {content: \"\";position: absolute;border-left: 1px solid gray;box-sizing: border-box;top: 0;bottom: 0;left: 50%;z-index: -1;}#sk-container-id-1 div.sk-parallel-item {display: flex;flex-direction: column;z-index: 1;position: relative;background-color: white;}#sk-container-id-1 div.sk-parallel-item:first-child::after {align-self: flex-end;width: 50%;}#sk-container-id-1 div.sk-parallel-item:last-child::after {align-self: flex-start;width: 50%;}#sk-container-id-1 div.sk-parallel-item:only-child::after {width: 0;}#sk-container-id-1 div.sk-dashed-wrapped {border: 1px dashed gray;margin: 0 0.4em 0.5em 0.4em;box-sizing: border-box;padding-bottom: 0.4em;background-color: white;}#sk-container-id-1 div.sk-label label {font-family: monospace;font-weight: bold;display: inline-block;line-height: 1.2em;}#sk-container-id-1 div.sk-label-container {text-align: center;}#sk-container-id-1 div.sk-container {/* jupyter's `normalize.less` sets `[hidden] { display: none; }` but bootstrap.min.css set `[hidden] { display: none !important; }` so we also need the `!important` here to be able to override the default hidden behavior on the sphinx rendered scikit-learn.org. See: https://github.com/scikit-learn/scikit-learn/issues/21755 */display: inline-block !important;position: relative;}#sk-container-id-1 div.sk-text-repr-fallback {display: none;}</style><div id=\"sk-container-id-1\" class=\"sk-top-container\"><div class=\"sk-text-repr-fallback\"><pre>LinearSVC()</pre><b>In a Jupyter environment, please rerun this cell to show the HTML representation or trust the notebook. <br />On GitHub, the HTML representation is unable to render, please try loading this page with nbviewer.org.</b></div><div class=\"sk-container\" hidden><div class=\"sk-item\"><div class=\"sk-estimator sk-toggleable\"><input class=\"sk-toggleable__control sk-hidden--visually\" id=\"sk-estimator-id-1\" type=\"checkbox\" checked><label for=\"sk-estimator-id-1\" class=\"sk-toggleable__label sk-toggleable__label-arrow\">LinearSVC</label><div class=\"sk-toggleable__content\"><pre>LinearSVC()</pre></div></div></div></div></div>"
      ],
      "text/plain": [
       "LinearSVC()"
      ]
     },
     "execution_count": 12,
     "metadata": {},
     "output_type": "execute_result"
    }
   ],
   "source": [
    "clf = svm.LinearSVC()\n",
    "clf.fit(X_train, y_train)"
   ]
  },
  {
   "attachments": {},
   "cell_type": "markdown",
   "id": "c42805eb",
   "metadata": {},
   "source": [
    "精度の評価"
   ]
  },
  {
   "cell_type": "code",
   "execution_count": 13,
   "id": "d5f297c1",
   "metadata": {},
   "outputs": [
    {
     "name": "stdout",
     "output_type": "stream",
     "text": [
      "Accuracy: 0.5768789913214344\n"
     ]
    }
   ],
   "source": [
    "y_pred = clf.predict(X_test)\n",
    "acc = accuracy_score(y_test,y_pred)\n",
    "print('Accuracy:',acc)"
   ]
  }
 ],
 "metadata": {
  "kernelspec": {
   "display_name": "py310-gpu",
   "language": "python",
   "name": "python3"
  },
  "language_info": {
   "codemirror_mode": {
    "name": "ipython",
    "version": 3
   },
   "file_extension": ".py",
   "mimetype": "text/x-python",
   "name": "python",
   "nbconvert_exporter": "python",
   "pygments_lexer": "ipython3",
   "version": "3.10.1"
  },
  "vscode": {
   "interpreter": {
    "hash": "6b0b64273771698ba1e03d7ae04530b26554aed1c5f3b60517dc5e1068c07864"
   }
  }
 },
 "nbformat": 4,
 "nbformat_minor": 5
}
