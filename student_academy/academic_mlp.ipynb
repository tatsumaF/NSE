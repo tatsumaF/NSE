{
 "cells": [
  {
   "cell_type": "markdown",
   "id": "0020cc35",
   "metadata": {},
   "source": [
    "学生のパフォーマンス"
   ]
  },
  {
   "attachments": {},
   "cell_type": "markdown",
   "id": "4407a7ca",
   "metadata": {},
   "source": [
    "データセットの説明：\n",
    "\n",
    "このデータは、ポルトガルの2008個の学校の中等教育における生徒の成績から取得したデータである。今回は数学にフォーカスしたデータを扱う。\n",
    "\n",
    "\n",
    "特徴量：\n",
    "\n",
    "sex:性別(F or M)\n",
    "\n",
    "age:15~22の年齢\n",
    "\n",
    "famsize:家族の規模(LE3:3人以下、GT3:３人以上)\n",
    "\n",
    "Pstatus:親の同棲状況(T:同居、A:離れて)\n",
    "\n",
    "Medu:母親の教育(0:なし、1:初等教育、2:5-9年生、3:中等教育、4:高等教育)\n",
    "\n",
    "Fedu:父親の教育(0:なし、1:初等教育、2:5-9年生、3:中等教育、4:高等教育)\n",
    "\n",
    "traveltime:自宅から学校までの移動時間(数値:1〜<15分、2〜15〜30分、3〜30分〜1時間、または4〜>1時間)\n",
    "\n",
    "studytime:毎週の学習時間(数値:1 - <2時間、2 - 2 - 5時間、3 - 5から10時間、または4 - >10時間)\n",
    "\n",
    "nursery:保育園に通った(バイナリ:はいまたはいいえ)\n",
    "\n",
    "internet：-自宅でのインターネットアクセス(バイナリ:はいまたはいいえ)\n",
    "\n",
    "romantic:ロマンチック-ロマンチックな関係(バイナリ: はいまたはいいえ)\n",
    "\n",
    "famrel:家族関係の質 (数値: 1 - 非常に悪いから 5 - 非常に良い)\n",
    "\n",
    "health:現在の健康状態 (数値: 1 - 非常に悪いから 5 - 非常に良い)\n",
    "\n",
    "absences:欠席数 (数値: 0 から 93)\n",
    "\n",
    "G3:最終成績"
   ]
  },
  {
   "attachments": {},
   "cell_type": "markdown",
   "id": "4957e29a",
   "metadata": {},
   "source": [
    "必要なモジュールのインポート"
   ]
  },
  {
   "cell_type": "code",
   "execution_count": 6,
   "id": "243cfe21",
   "metadata": {},
   "outputs": [],
   "source": [
    "import pandas as pd\n",
    "import numpy as np\n",
    "import tensorflow as tf\n",
    "import tensorflow.keras as keras\n",
    "import matplotlib.pyplot as plt\n",
    "from sklearn.model_selection import train_test_split\n",
    "from sklearn.metrics import accuracy_score\n",
    "from sklearn.preprocessing import LabelEncoder\n",
    "from tensorflow.keras.models import Sequential\n",
    "from tensorflow.keras.layers import Dense, Dropout, Flatten\n",
    "from sklearn.metrics import mean_squared_error, r2_score"
   ]
  },
  {
   "attachments": {},
   "cell_type": "markdown",
   "id": "7b3f2838",
   "metadata": {},
   "source": [
    "データの取得"
   ]
  },
  {
   "cell_type": "code",
   "execution_count": 7,
   "id": "76f5b3f3",
   "metadata": {},
   "outputs": [
    {
     "name": "stdout",
     "output_type": "stream",
     "text": [
      "    school sex  age address famsize Pstatus  ...  Walc  health absences  G1  G2  G3\n",
      "0       GP   F   18       U     GT3       A  ...     1       3        6   5   6   6\n",
      "1       GP   F   17       U     GT3       T  ...     1       3        4   5   5   6\n",
      "2       GP   F   15       U     LE3       T  ...     3       3       10   7   8  10\n",
      "3       GP   F   15       U     GT3       T  ...     1       5        2  15  14  15\n",
      "4       GP   F   16       U     GT3       T  ...     2       5        4   6  10  10\n",
      "..     ...  ..  ...     ...     ...     ...  ...   ...     ...      ...  ..  ..  ..\n",
      "390     MS   M   20       U     LE3       A  ...     5       4       11   9   9   9\n",
      "391     MS   M   17       U     LE3       T  ...     4       2        3  14  16  16\n",
      "392     MS   M   21       R     GT3       T  ...     3       3        3  10   8   7\n",
      "393     MS   M   18       R     LE3       T  ...     4       5        0  11  12  10\n",
      "394     MS   M   19       U     LE3       T  ...     3       5        5   8   9   9\n",
      "\n",
      "[395 rows x 33 columns]\n",
      "(395, 33)\n",
      "Index(['school', 'sex', 'age', 'address', 'famsize', 'Pstatus', 'Medu', 'Fedu',\n",
      "       'Mjob', 'Fjob', 'reason', 'guardian', 'traveltime', 'studytime',\n",
      "       'failures', 'schoolsup', 'famsup', 'paid', 'activities', 'nursery',\n",
      "       'higher', 'internet', 'romantic', 'famrel', 'freetime', 'goout', 'Dalc',\n",
      "       'Walc', 'health', 'absences', 'G1', 'G2', 'G3'],\n",
      "      dtype='object')\n"
     ]
    }
   ],
   "source": [
    "#今回利用するデータは区切り文字が\";\"であるためsepに設定する\n",
    "df = pd.read_csv('student-mat.csv',sep=\";\")\n",
    "\n",
    "print(df)\n",
    "print(df.shape)\n",
    "print(df.columns)"
   ]
  },
  {
   "attachments": {},
   "cell_type": "markdown",
   "id": "bb751c67",
   "metadata": {},
   "source": [
    "データの整形"
   ]
  },
  {
   "cell_type": "code",
   "execution_count": 8,
   "id": "91cc28c6",
   "metadata": {},
   "outputs": [
    {
     "name": "stdout",
     "output_type": "stream",
     "text": [
      "0       6\n",
      "1       6\n",
      "2      10\n",
      "3      15\n",
      "4      10\n",
      "       ..\n",
      "390     9\n",
      "391    16\n",
      "392     7\n",
      "393    10\n",
      "394     9\n",
      "Name: G3, Length: 395, dtype: int64\n"
     ]
    }
   ],
   "source": [
    "#入力(特徴量)と出力(目的変数)の分割\n",
    "X = df.loc[:,['sex','age','famsize','Pstatus','Medu','Fedu','traveltime','studytime','nursery','internet','romantic','famrel','health','absences']]\n",
    "le = LabelEncoder()\n",
    "#ラベルエンコーディング\n",
    "\n",
    "X['sex'] = le.fit_transform(df['sex'])\n",
    "X['famsize'] = le.fit_transform(df['famsize'])\n",
    "X['Pstatus'] = le.fit_transform(df['Pstatus'])\n",
    "X['nursery'] = le.fit_transform(df['nursery'])\n",
    "X['internet'] = le.fit_transform(df['internet'])\n",
    "X['romantic'] = le.fit_transform(df['romantic'])\n",
    "\n",
    "X = (X - X.mean())/X.std()\n",
    "\n",
    "y = df['G3']\n",
    "\n",
    "print(y)\n",
    "#converted_y = le.fit_transform(y)\n",
    "#print(y)\n",
    "#print(converted_y)"
   ]
  },
  {
   "attachments": {},
   "cell_type": "markdown",
   "id": "32271b8f",
   "metadata": {},
   "source": [
    "データの分割"
   ]
  },
  {
   "cell_type": "code",
   "execution_count": 9,
   "id": "0d582284",
   "metadata": {},
   "outputs": [
    {
     "name": "stdout",
     "output_type": "stream",
     "text": [
      "(276, 14) (119, 14) (276,) (119,)\n"
     ]
    }
   ],
   "source": [
    "X_train, X_test, y_train, y_test = train_test_split(X, y, test_size=0.3, random_state=42)\n",
    "print(X_train.shape, X_test.shape, y_train.shape, y_test.shape)"
   ]
  },
  {
   "attachments": {},
   "cell_type": "markdown",
   "id": "54ee5b33",
   "metadata": {},
   "source": [
    "モデルの定義"
   ]
  },
  {
   "cell_type": "code",
   "execution_count": 17,
   "id": "c622bac9",
   "metadata": {},
   "outputs": [],
   "source": [
    "model = Sequential()\n",
    "model.add(Dense(512, input_dim=X_train.shape[1], activation='relu'))\n",
    "model.add(Dropout(0.25))\n",
    "model.add(Dense(1024,activation='relu'))\n",
    "model.add(Dropout(0.5))\n",
    "model.add(Dense(1))\n",
    "model.compile(loss='mean_squared_error', optimizer='adam')"
   ]
  },
  {
   "attachments": {},
   "cell_type": "markdown",
   "id": "b3896e95",
   "metadata": {},
   "source": [
    "モデルの学習"
   ]
  },
  {
   "cell_type": "code",
   "execution_count": 18,
   "id": "1052f5e5",
   "metadata": {},
   "outputs": [
    {
     "data": {
      "text/plain": [
       "<keras.callbacks.History at 0x1ab01136bf0>"
      ]
     },
     "execution_count": 18,
     "metadata": {},
     "output_type": "execute_result"
    }
   ],
   "source": [
    "model.fit(X_train, y_train, epochs=1000, batch_size=32, verbose=0)"
   ]
  },
  {
   "attachments": {},
   "cell_type": "markdown",
   "id": "2c3f209a",
   "metadata": {},
   "source": [
    "モデルの予測"
   ]
  },
  {
   "cell_type": "code",
   "execution_count": 19,
   "id": "4d05fa41",
   "metadata": {},
   "outputs": [
    {
     "name": "stdout",
     "output_type": "stream",
     "text": [
      "4/4 [==============================] - 0s 2ms/step\n"
     ]
    }
   ],
   "source": [
    "y_pred = model.predict(X_test)\n",
    "y_pred = np.reshape(y_pred, y_test.shape)"
   ]
  },
  {
   "attachments": {},
   "cell_type": "markdown",
   "id": "d564b3a6",
   "metadata": {},
   "source": [
    "回帰モデルの評価"
   ]
  },
  {
   "cell_type": "code",
   "execution_count": 20,
   "id": "c6978527",
   "metadata": {
    "scrolled": true
   },
   "outputs": [
    {
     "name": "stdout",
     "output_type": "stream",
     "text": [
      "Mean Squared Error: 30.506186506895084\n"
     ]
    }
   ],
   "source": [
    "# 評価（平均二乗誤差）\n",
    "mse = mean_squared_error(y_test, y_pred)\n",
    "print(\"Mean Squared Error:\", mse)"
   ]
  },
  {
   "cell_type": "code",
   "execution_count": 21,
   "id": "c6b1fc2c",
   "metadata": {},
   "outputs": [
    {
     "name": "stdout",
     "output_type": "stream",
     "text": [
      "R2 Score: -0.38777629437736527\n"
     ]
    }
   ],
   "source": [
    "# 評価（R2スコア）\n",
    "r2 = r2_score(y_test, y_pred)\n",
    "print(\"R2 Score:\", r2)"
   ]
  },
  {
   "attachments": {},
   "cell_type": "markdown",
   "id": "7251180b",
   "metadata": {},
   "source": [
    "モデルの保存"
   ]
  },
  {
   "cell_type": "code",
   "execution_count": 15,
   "id": "d20d1477",
   "metadata": {},
   "outputs": [],
   "source": [
    "model.save('academy_mlp.h5')"
   ]
  }
 ],
 "metadata": {
  "kernelspec": {
   "display_name": "py310-gpu",
   "language": "python",
   "name": "python3"
  },
  "language_info": {
   "codemirror_mode": {
    "name": "ipython",
    "version": 3
   },
   "file_extension": ".py",
   "mimetype": "text/x-python",
   "name": "python",
   "nbconvert_exporter": "python",
   "pygments_lexer": "ipython3",
   "version": "3.10.1"
  },
  "vscode": {
   "interpreter": {
    "hash": "6b0b64273771698ba1e03d7ae04530b26554aed1c5f3b60517dc5e1068c07864"
   }
  }
 },
 "nbformat": 4,
 "nbformat_minor": 5
}
